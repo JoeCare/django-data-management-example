{
 "cells": [
  {
   "cell_type": "code",
   "execution_count": 1,
   "metadata": {},
   "outputs": [],
   "source": [
    "import os\n",
    "import sys\n",
    "import django\n",
    "\n",
    "sys.path.insert(1,  '..')\n",
    "os.environ['DJANGO_SETTINGS_MODULE'] = 'explore.settings'\n",
    "django.setup()"
   ]
  },
  {
   "cell_type": "code",
   "execution_count": 2,
   "metadata": {},
   "outputs": [],
   "source": [
    "import pandas as pd\n",
    "from explore.communities.models import Group"
   ]
  },
  {
   "cell_type": "code",
   "execution_count": 3,
   "metadata": {},
   "outputs": [],
   "source": [
    "df = pd.DataFrame.from_records(Group.objects.order_by('-members').values()[:5])"
   ]
  },
  {
   "cell_type": "markdown",
   "metadata": {},
   "source": [
    "## Top 5 communities"
   ]
  },
  {
   "cell_type": "code",
   "execution_count": 4,
   "metadata": {},
   "outputs": [],
   "source": [
    "ax = df.plot.bar(x='name', y='members')"
   ]
  },
  {
   "cell_type": "code",
   "execution_count": 5,
   "metadata": {},
   "outputs": [
    {
     "data": {
      "text/html": [
       "<div>\n",
       "<style scoped>\n",
       "    .dataframe tbody tr th:only-of-type {\n",
       "        vertical-align: middle;\n",
       "    }\n",
       "\n",
       "    .dataframe tbody tr th {\n",
       "        vertical-align: top;\n",
       "    }\n",
       "\n",
       "    .dataframe thead th {\n",
       "        text-align: right;\n",
       "    }\n",
       "</style>\n",
       "<table border=\"1\" class=\"dataframe\">\n",
       "  <thead>\n",
       "    <tr style=\"text-align: right;\">\n",
       "      <th></th>\n",
       "      <th>city</th>\n",
       "      <th>country</th>\n",
       "      <th>created</th>\n",
       "      <th>description</th>\n",
       "      <th>id</th>\n",
       "      <th>lat</th>\n",
       "      <th>lon</th>\n",
       "      <th>members</th>\n",
       "      <th>name</th>\n",
       "      <th>organizer_id</th>\n",
       "      <th>organizer_name</th>\n",
       "      <th>urlname</th>\n",
       "      <th>who</th>\n",
       "    </tr>\n",
       "  </thead>\n",
       "  <tbody>\n",
       "    <tr>\n",
       "      <th>0</th>\n",
       "      <td>Lisbon</td>\n",
       "      <td>PT</td>\n",
       "      <td>2015-11-13 09:50:32+00:00</td>\n",
       "      <td>&lt;p&gt;&lt;span&gt;Le Wagon is a coding bootcamp for cre...</td>\n",
       "      <td>19117472</td>\n",
       "      <td>38.72</td>\n",
       "      <td>-9.14</td>\n",
       "      <td>2769</td>\n",
       "      <td>Le Wagon Lisbon - Coding Bootcamp</td>\n",
       "      <td>11807224</td>\n",
       "      <td>Shannon Graybill</td>\n",
       "      <td>Le-Wagon-Lisbon-Coding-Station</td>\n",
       "      <td>apprentices</td>\n",
       "    </tr>\n",
       "    <tr>\n",
       "      <th>1</th>\n",
       "      <td>Lisbon</td>\n",
       "      <td>PT</td>\n",
       "      <td>2016-02-19 12:32:06+00:00</td>\n",
       "      <td>&lt;p&gt;The goal of DevOps Lisbon is to bring toget...</td>\n",
       "      <td>19593453</td>\n",
       "      <td>38.72</td>\n",
       "      <td>-9.14</td>\n",
       "      <td>2247</td>\n",
       "      <td>DevOps Lisbon</td>\n",
       "      <td>43110132</td>\n",
       "      <td>Manuel Pais</td>\n",
       "      <td>DevOps-Lisbon</td>\n",
       "      <td>devops</td>\n",
       "    </tr>\n",
       "    <tr>\n",
       "      <th>2</th>\n",
       "      <td>Lisbon</td>\n",
       "      <td>PT</td>\n",
       "      <td>2016-02-27 18:04:35+00:00</td>\n",
       "      <td>&lt;p&gt;Meetup group to talk about the disruptive t...</td>\n",
       "      <td>19633573</td>\n",
       "      <td>38.72</td>\n",
       "      <td>-9.14</td>\n",
       "      <td>2199</td>\n",
       "      <td>Blockchain Portugal</td>\n",
       "      <td>42263642</td>\n",
       "      <td>Paulo Fonseca</td>\n",
       "      <td>blockchainpt</td>\n",
       "      <td>Blockchain Enthusiasts</td>\n",
       "    </tr>\n",
       "    <tr>\n",
       "      <th>3</th>\n",
       "      <td>Lisbon</td>\n",
       "      <td>PT</td>\n",
       "      <td>2016-03-29 13:07:32+00:00</td>\n",
       "      <td>&lt;p&gt;One of the five groups in Portugal and one ...</td>\n",
       "      <td>19772492</td>\n",
       "      <td>38.72</td>\n",
       "      <td>-9.14</td>\n",
       "      <td>2085</td>\n",
       "      <td>Google Developer Group Lisboa</td>\n",
       "      <td>144084372</td>\n",
       "      <td>Filipe A. Barroso</td>\n",
       "      <td>gdglisbon</td>\n",
       "      <td>Googlers</td>\n",
       "    </tr>\n",
       "    <tr>\n",
       "      <th>4</th>\n",
       "      <td>Lisbon</td>\n",
       "      <td>PT</td>\n",
       "      <td>2015-01-21 17:04:27+00:00</td>\n",
       "      <td>&lt;p&gt;Productized Talks are a series of events wi...</td>\n",
       "      <td>18363169</td>\n",
       "      <td>38.72</td>\n",
       "      <td>-9.14</td>\n",
       "      <td>2010</td>\n",
       "      <td>Productized</td>\n",
       "      <td>5904937</td>\n",
       "      <td>Andre Marquet</td>\n",
       "      <td>Productized</td>\n",
       "      <td>Productizers</td>\n",
       "    </tr>\n",
       "  </tbody>\n",
       "</table>\n",
       "</div>"
      ],
      "text/plain": [
       "     city country                    created  \\\n",
       "0  Lisbon      PT  2015-11-13 09:50:32+00:00   \n",
       "1  Lisbon      PT  2016-02-19 12:32:06+00:00   \n",
       "2  Lisbon      PT  2016-02-27 18:04:35+00:00   \n",
       "3  Lisbon      PT  2016-03-29 13:07:32+00:00   \n",
       "4  Lisbon      PT  2015-01-21 17:04:27+00:00   \n",
       "\n",
       "                                         description        id    lat   lon  \\\n",
       "0  <p><span>Le Wagon is a coding bootcamp for cre...  19117472  38.72 -9.14   \n",
       "1  <p>The goal of DevOps Lisbon is to bring toget...  19593453  38.72 -9.14   \n",
       "2  <p>Meetup group to talk about the disruptive t...  19633573  38.72 -9.14   \n",
       "3  <p>One of the five groups in Portugal and one ...  19772492  38.72 -9.14   \n",
       "4  <p>Productized Talks are a series of events wi...  18363169  38.72 -9.14   \n",
       "\n",
       "   members                               name  organizer_id  \\\n",
       "0     2769  Le Wagon Lisbon - Coding Bootcamp      11807224   \n",
       "1     2247                      DevOps Lisbon      43110132   \n",
       "2     2199                Blockchain Portugal      42263642   \n",
       "3     2085      Google Developer Group Lisboa     144084372   \n",
       "4     2010                        Productized       5904937   \n",
       "\n",
       "      organizer_name                         urlname                     who  \n",
       "0   Shannon Graybill  Le-Wagon-Lisbon-Coding-Station             apprentices  \n",
       "1        Manuel Pais                   DevOps-Lisbon                  devops  \n",
       "2      Paulo Fonseca                    blockchainpt  Blockchain Enthusiasts  \n",
       "3  Filipe A. Barroso                       gdglisbon                Googlers  \n",
       "4      Andre Marquet                     Productized            Productizers  "
      ]
     },
     "execution_count": 5,
     "metadata": {},
     "output_type": "execute_result"
    }
   ],
   "source": [
    "df"
   ]
  },
  {
   "cell_type": "code",
   "execution_count": null,
   "metadata": {},
   "outputs": [],
   "source": []
  }
 ],
 "metadata": {
  "kernelspec": {
   "display_name": "Python 3",
   "language": "python",
   "name": "python3"
  },
  "language_info": {
   "codemirror_mode": {
    "name": "ipython",
    "version": 3
   },
   "file_extension": ".py",
   "mimetype": "text/x-python",
   "name": "python",
   "nbconvert_exporter": "python",
   "pygments_lexer": "ipython3",
   "version": "3.7.0"
  }
 },
 "nbformat": 4,
 "nbformat_minor": 2
}
